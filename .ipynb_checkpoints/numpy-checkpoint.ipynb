{
 "cells": [
  {
   "cell_type": "code",
   "execution_count": 2,
   "metadata": {},
   "outputs": [],
   "source": [
    "import numpy as np"
   ]
  },
  {
   "cell_type": "code",
   "execution_count": 3,
   "metadata": {},
   "outputs": [
    {
     "name": "stdout",
     "output_type": "stream",
     "text": [
      "[1 2 3 4 5]\n",
      "<class 'numpy.ndarray'>\n",
      "(5,)\n"
     ]
    }
   ],
   "source": [
    "a = np.array([1,2,3,4,5])\n",
    "print(a)\n",
    "print(type(a))\n",
    "print(a.shape) #dimentions"
   ]
  },
  {
   "cell_type": "code",
   "execution_count": 4,
   "metadata": {},
   "outputs": [
    {
     "name": "stdout",
     "output_type": "stream",
     "text": [
      "[[1]\n",
      " [2]\n",
      " [3]\n",
      " [4]\n",
      " [5]]\n",
      "(5, 1)\n"
     ]
    }
   ],
   "source": [
    "b = np.array([[1],[2],[3],[4],[5]])\n",
    "print(b)\n",
    "print(b.shape)\n",
    "#(5,1) means it acts as a 2d array, (5,) means it is a 1d array"
   ]
  },
  {
   "cell_type": "code",
   "execution_count": 5,
   "metadata": {},
   "outputs": [
    {
     "name": "stdout",
     "output_type": "stream",
     "text": [
      "[[1 2 3]\n",
      " [4 5 6]]\n",
      "(2, 3)\n"
     ]
    },
    {
     "data": {
      "text/plain": [
       "5"
      ]
     },
     "execution_count": 5,
     "metadata": {},
     "output_type": "execute_result"
    }
   ],
   "source": [
    "c = np.array([[1,2,3],[4,5,6]])\n",
    "print(c)\n",
    "print(c.shape)\n",
    "c[1,1] "
   ]
  },
  {
   "cell_type": "code",
   "execution_count": 11,
   "metadata": {},
   "outputs": [
    {
     "name": "stdout",
     "output_type": "stream",
     "text": [
      "[[0. 0. 0.]\n",
      " [0. 0. 0.]\n",
      " [0. 0. 0.]]\n",
      "[[1. 1. 1.]\n",
      " [1. 1. 1.]]\n",
      "[[5 5]\n",
      " [5 5]\n",
      " [5 5]]\n",
      "[[1. 0. 0. 0.]\n",
      " [0. 1. 0. 0.]\n",
      " [0. 0. 1. 0.]\n",
      " [0. 0. 0. 1.]]\n",
      "[[0.05617921 0.10756735 0.27639113 0.39101198]\n",
      " [0.3371215  0.09149936 0.71774809 0.76525011]]\n"
     ]
    }
   ],
   "source": [
    "#Create zeros, ones, custom arrays\n",
    "a = np.zeros((3,3))\n",
    "print(a)\n",
    "\n",
    "b = np.ones((2,3))\n",
    "print(b)\n",
    "\n",
    "c = np.full((3,2),5)\n",
    "print(c)\n",
    "\n",
    "#Identity matrix - size/square matrix\n",
    "d = np.eye(4)\n",
    "print(d)\n",
    "\n",
    "#Random Matrix\n",
    "e = np.random.random((2,4))\n",
    "print(e)"
   ]
  },
  {
   "cell_type": "code",
   "execution_count": 19,
   "metadata": {},
   "outputs": [
    {
     "name": "stdout",
     "output_type": "stream",
     "text": [
      "[[0.27639113 0.39101198]\n",
      " [1.         1.        ]]\n",
      "[[0.05617921 0.10756735 0.27639113 0.39101198]\n",
      " [0.3371215  0.09149936 1.         1.        ]]\n"
     ]
    }
   ],
   "source": [
    "# To access values from a matrix - print(matrixName[row,column]) - SLICING\n",
    "print(e[:,2:])\n",
    "\n",
    "#to update\n",
    "e[1,2:4] = 1\n",
    "print(e)"
   ]
  },
  {
   "cell_type": "code",
   "execution_count": 23,
   "metadata": {},
   "outputs": [
    {
     "name": "stdout",
     "output_type": "stream",
     "text": [
      "[[0 0 7]\n",
      " [5 5 7]\n",
      " [0 0 7]]\n",
      "int64\n"
     ]
    }
   ],
   "source": [
    "#Datatypes\n",
    "a = np.zeros((3,3), dtype = np.int64)\n",
    "a[1] = 5\n",
    "a[:,-1] = 7\n",
    "print(a)\n",
    "print(a.dtype)"
   ]
  },
  {
   "cell_type": "code",
   "execution_count": 32,
   "metadata": {},
   "outputs": [
    {
     "name": "stdout",
     "output_type": "stream",
     "text": [
      "[[ 3  9]\n",
      " [ 5 12]]\n",
      "int32\n",
      "[[-1 -3]\n",
      " [ 3 -6]]\n",
      "[[ 2 18]\n",
      " [ 4 27]]\n",
      "[[0.5        0.5       ]\n",
      " [4.         0.33333333]]\n",
      "[[0 0]\n",
      " [4 0]]\n",
      "[[1.41421356 2.44948974]\n",
      " [1.         3.        ]]\n"
     ]
    }
   ],
   "source": [
    "# Mathematical Operations\n",
    "\n",
    "x = np.array([[1,3],[4,3]])\n",
    "y = np.array([[2,6],[1,9]])\n",
    "print(x+y)\n",
    "print((x+y).dtype)\n",
    "print(x-y)\n",
    "print(x*y)\n",
    "print(x/y)\n",
    "print(x//y)\n",
    "print(np.sqrt(y))\n",
    "\n",
    "#These all are element-wise"
   ]
  },
  {
   "cell_type": "code",
   "execution_count": 35,
   "metadata": {},
   "outputs": [
    {
     "name": "stdout",
     "output_type": "stream",
     "text": [
      "[[1 3]\n",
      " [4 3]]\n",
      "[[2 6]\n",
      " [1 9]]\n",
      "[[ 5 33]\n",
      " [11 51]]\n",
      "[[ 5 33]\n",
      " [11 51]]\n"
     ]
    }
   ],
   "source": [
    "#Matrix multiplication - Dot products\n",
    "\n",
    "print(x)\n",
    "print(y)\n",
    "print(x.dot(y))\n",
    "print(np.dot(x,y))"
   ]
  },
  {
   "cell_type": "code",
   "execution_count": 37,
   "metadata": {},
   "outputs": [
    {
     "name": "stdout",
     "output_type": "stream",
     "text": [
      "55\n"
     ]
    }
   ],
   "source": [
    "# Matrix miltiplication(Dot Product) of vectors => scalar\n",
    "a = np.array([1,2,3,4,5])\n",
    "b = np.array([1,2,3,4,5])\n",
    "print(a.dot(b))"
   ]
  },
  {
   "cell_type": "code",
   "execution_count": 38,
   "metadata": {},
   "outputs": [
    {
     "name": "stdout",
     "output_type": "stream",
     "text": [
      "[1 2 3 4 5]\n",
      "15\n"
     ]
    }
   ],
   "source": [
    "print(a)\n",
    "print(sum(a))"
   ]
  },
  {
   "cell_type": "code",
   "execution_count": 43,
   "metadata": {},
   "outputs": [
    {
     "name": "stdout",
     "output_type": "stream",
     "text": [
      "[[1 3]\n",
      " [4 3]]\n",
      "[5 6]\n",
      "11\n",
      "[5 6]\n",
      "[4 7]\n"
     ]
    }
   ],
   "source": [
    "print(x)\n",
    "print(sum(x))\n",
    "print(np.sum(x))\n",
    "print(np.sum(x,axis = 0))\n",
    "print(np.sum(x,axis = 1))"
   ]
  },
  {
   "cell_type": "code",
   "execution_count": 54,
   "metadata": {},
   "outputs": [
    {
     "name": "stdout",
     "output_type": "stream",
     "text": [
      "[1 2 3 4 5]\n",
      "[ 8 11 16 23 32]\n"
     ]
    }
   ],
   "source": [
    "# Stacking of Arrays\n",
    "print(a)\n",
    "b = b+1\n",
    "print(b)"
   ]
  },
  {
   "cell_type": "code",
   "execution_count": 55,
   "metadata": {},
   "outputs": [
    {
     "name": "stdout",
     "output_type": "stream",
     "text": [
      "[[ 1  8]\n",
      " [ 2 11]\n",
      " [ 3 16]\n",
      " [ 4 23]\n",
      " [ 5 32]]\n",
      "[[ 1  2  3  4  5]\n",
      " [ 8 11 16 23 32]]\n"
     ]
    }
   ],
   "source": [
    "print(np.stack((a,b),axis = 1))\n",
    "print(np.stack((a,b),axis = 0))"
   ]
  },
  {
   "cell_type": "code",
   "execution_count": 69,
   "metadata": {},
   "outputs": [
    {
     "name": "stdout",
     "output_type": "stream",
     "text": [
      "[[1 1 1 2]\n",
      " [1 1 1 2]\n",
      " [3 3 3 2]]\n"
     ]
    }
   ],
   "source": [
    "x = np.ones((3,4), dtype = np.int64)\n",
    "x[-1],x[:,-1]= 3,2\n",
    "print(x)"
   ]
  },
  {
   "cell_type": "code",
   "execution_count": 77,
   "metadata": {},
   "outputs": [
    {
     "name": "stdout",
     "output_type": "stream",
     "text": [
      "[[1 1]\n",
      " [1 2]\n",
      " [1 1]\n",
      " [1 2]\n",
      " [3 3]\n",
      " [3 2]]\n",
      "[[1 1 1]\n",
      " [2 1 1]\n",
      " [1 2 3]\n",
      " [3 3 2]]\n",
      "[[1 1 1 2]\n",
      " [1 1 1 2]\n",
      " [3 3 3 2]]\n"
     ]
    }
   ],
   "source": [
    "#Reshape a Numpy array\n",
    "x = x.reshape((6,2))\n",
    "print(x)\n",
    "\n",
    "#If you know the number of column but not rows, just put -1 in place of row and vice versa\n",
    "y = x.reshape((4,-1))\n",
    "print(y)\n",
    "z = x.reshape((-1,4))\n",
    "print(z)"
   ]
  },
  {
   "cell_type": "markdown",
   "metadata": {},
   "source": [
    "# Numpy Random Module\n",
    "- rand: Random values in a given space.\n",
    "- randn: Return a sample(or samples) from the 'standard normal' distribution.\n",
    "- randint: Return random integers from low(inclusive) to high(exclusive).\n",
    "- random: Return random floats in the half open interval [0.00, 1.0).\n",
    "- choice: Generates a random sample from a given 1-D array\n",
    "- Shuffle: Shuffles the contents of a sequence."
   ]
  },
  {
   "cell_type": "code",
   "execution_count": 82,
   "metadata": {},
   "outputs": [
    {
     "name": "stdout",
     "output_type": "stream",
     "text": [
      "[ 5  6  7  8  9 10 11 12 13 14]\n"
     ]
    }
   ],
   "source": [
    "a = np.arange(10) + 5\n",
    "print(a)"
   ]
  },
  {
   "cell_type": "code",
   "execution_count": 89,
   "metadata": {},
   "outputs": [
    {
     "name": "stdout",
     "output_type": "stream",
     "text": [
      "[ 5  6 11 10 12  9  8 13 14  7]\n"
     ]
    }
   ],
   "source": [
    "np.random.shuffle(a)\n",
    "print(a)"
   ]
  },
  {
   "cell_type": "code",
   "execution_count": 102,
   "metadata": {},
   "outputs": [
    {
     "name": "stdout",
     "output_type": "stream",
     "text": [
      "[[4.17022005e-01 7.20324493e-01 1.14374817e-04]\n",
      " [3.02332573e-01 1.46755891e-01 9.23385948e-02]]\n",
      "[[-0.52817175 -1.07296862  0.86540763 -2.3015387 ]\n",
      " [ 1.74481176 -0.7612069   0.3190391  -0.24937038]]\n",
      "[7 9 6 6]\n",
      "6\n"
     ]
    }
   ],
   "source": [
    "np.random.seed(1) #These all are Pseudo random numbers, so if you want to repeat your results then use same seed value\n",
    "\n",
    "a = np.random.rand(2,3) #<-arguement is shape\n",
    "print(a)\n",
    "\n",
    "b = np.random.randn(2,4) # Returns values from  a Standard normal Distribution \n",
    "print(b)\n",
    "\n",
    "c = np.random.randint(5,10, 4) # 4 numbers in range 5(including) to 10(excluding)\n",
    "print(c)\n",
    "\n",
    "element = np.random.choice(c) #pick any number from a given 1-D array(can also be given manually)\n",
    "print(element)"
   ]
  },
  {
   "cell_type": "markdown",
   "metadata": {},
   "source": [
    "# Some more numpy functions - Statistics\n",
    " - min, max\n",
    " - mean\n",
    " - median\n",
    " - average\n",
    " - variance\n",
    " - standard deviation"
   ]
  },
  {
   "cell_type": "code",
   "execution_count": 105,
   "metadata": {},
   "outputs": [
    {
     "name": "stdout",
     "output_type": "stream",
     "text": [
      "[[1 2 3 4]\n",
      " [7 6 2 0]]\n",
      "0\n",
      "[1 2 2 0]\n",
      "[1 0]\n"
     ]
    }
   ],
   "source": [
    "a = np.array([[1,2,3,4],[7,6,2,0]])\n",
    "print(a)\n",
    "print(np.min(a))\n",
    "\n",
    "#specify axis in case of multidim array\n",
    "print(np.min(a,axis=0))\n",
    "print(np.min(a,axis=1))"
   ]
  },
  {
   "cell_type": "code",
   "execution_count": 111,
   "metadata": {},
   "outputs": [
    {
     "name": "stdout",
     "output_type": "stream",
     "text": [
      "3.0\n",
      "3.125\n",
      "[4.  4.  2.5 2. ]\n",
      "[2 3]\n"
     ]
    }
   ],
   "source": [
    "# mean\n",
    "b = np.array([1,2,3,4,5])\n",
    "print(np.mean(b))\n",
    "print(np.mean(a))\n",
    "print(np.mean(a,axis = 0))\n",
    "print(np.mean(a,axis = 1, dtype = np.int64))"
   ]
  },
  {
   "cell_type": "code",
   "execution_count": 119,
   "metadata": {},
   "outputs": [
    {
     "name": "stdout",
     "output_type": "stream",
     "text": [
      "2.0\n",
      "3.0\n",
      "3.0\n",
      "3.142857142857143\n",
      "2.7688746209726918\n",
      "2.7688746209726918\n",
      "7.666666666666668\n",
      "7.666666666666667\n"
     ]
    }
   ],
   "source": [
    "#median\n",
    "c = np.array([1,3,5,1,8,0])\n",
    "print(np.median(c))\n",
    "\n",
    "#mean vs median is weighted\n",
    "print(np.mean(c))\n",
    "w = np.array([1,2,3,4,5,6]) #weights\n",
    "print(np.average(c))\n",
    "print(np.average(c,weights = w))\n",
    "\n",
    "#standard deviation\n",
    "u = np.mean(c)\n",
    "mystd = np.sqrt(np.mean(abs(c-u)**2))\n",
    "print(mystd)\n",
    "\n",
    "#inbuilt function\n",
    "dev = np.std(c)\n",
    "print(dev)\n",
    "\n",
    "#variance\n",
    "print(mystd**2)\n",
    "print(np.var(c))"
   ]
  },
  {
   "cell_type": "code",
   "execution_count": null,
   "metadata": {},
   "outputs": [],
   "source": []
  },
  {
   "cell_type": "code",
   "execution_count": null,
   "metadata": {},
   "outputs": [],
   "source": []
  },
  {
   "cell_type": "code",
   "execution_count": null,
   "metadata": {},
   "outputs": [],
   "source": []
  },
  {
   "cell_type": "code",
   "execution_count": null,
   "metadata": {},
   "outputs": [],
   "source": []
  },
  {
   "cell_type": "code",
   "execution_count": null,
   "metadata": {},
   "outputs": [],
   "source": []
  },
  {
   "cell_type": "code",
   "execution_count": null,
   "metadata": {},
   "outputs": [],
   "source": []
  },
  {
   "cell_type": "code",
   "execution_count": null,
   "metadata": {},
   "outputs": [],
   "source": []
  }
 ],
 "metadata": {
  "kernelspec": {
   "display_name": "Python 3",
   "language": "python",
   "name": "python3"
  },
  "language_info": {
   "codemirror_mode": {
    "name": "ipython",
    "version": 3
   },
   "file_extension": ".py",
   "mimetype": "text/x-python",
   "name": "python",
   "nbconvert_exporter": "python",
   "pygments_lexer": "ipython3",
   "version": "3.8.5"
  }
 },
 "nbformat": 4,
 "nbformat_minor": 2
}
