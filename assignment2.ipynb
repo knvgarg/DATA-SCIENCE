{
 "metadata": {
  "language_info": {
   "codemirror_mode": {
    "name": "ipython",
    "version": 3
   },
   "file_extension": ".py",
   "mimetype": "text/x-python",
   "name": "python",
   "nbconvert_exporter": "python",
   "pygments_lexer": "ipython3",
   "version": "3.9.0-final"
  },
  "orig_nbformat": 2,
  "kernelspec": {
   "name": "python3",
   "display_name": "Python 3"
  }
 },
 "nbformat": 4,
 "nbformat_minor": 2,
 "cells": [
  {
   "cell_type": "code",
   "execution_count": 10,
   "metadata": {},
   "outputs": [],
   "source": [
    "import pandas as pd\n",
    "import numpy as np\n",
    "\n",
    "from sklearn.model_selection import train_test_split"
   ]
  },
  {
   "cell_type": "code",
   "execution_count": 11,
   "metadata": {},
   "outputs": [
    {
     "output_type": "stream",
     "name": "stdout",
     "text": [
      "   Age  Smokes  Smokes (years)  Smokes (packs/year)  Hormonal Contraceptives  \\\n0   18     0.0             0.0                  0.0                      0.0   \n1   15     0.0             0.0                  0.0                      0.0   \n2   34     0.0             0.0                  0.0                      0.0   \n3   52     1.0            37.0                 37.0                      1.0   \n4   46     0.0             0.0                  0.0                      1.0   \n\n   Hormonal Contraceptives (years)  IUD  IUD (years)  STDs  \\\n0                              0.0  0.0          0.0   0.0   \n1                              0.0  0.0          0.0   0.0   \n2                              0.0  0.0          0.0   0.0   \n3                              3.0  0.0          0.0   0.0   \n4                             15.0  0.0          0.0   0.0   \n\n   STDs:molluscum contagiosum  ...  STDs: Time since first diagnosis  \\\n0                         0.0  ...                               NaN   \n1                         0.0  ...                               NaN   \n2                         0.0  ...                               NaN   \n3                         0.0  ...                               NaN   \n4                         0.0  ...                               NaN   \n\n   STDs: Time since last diagnosis  Dx:Cancer  Dx:CIN  Dx:HPV  Dx  Hinselmann  \\\n0                              NaN          0       0       0   0           0   \n1                              NaN          0       0       0   0           0   \n2                              NaN          0       0       0   0           0   \n3                              NaN          1       0       1   0           0   \n4                              NaN          0       0       0   0           0   \n\n   Schiller  Citology  Biopsy(target variable)  \n0         0         0                        0  \n1         0         0                        0  \n2         0         0                        0  \n3         0         0                        0  \n4         0         0                        0  \n\n[5 rows x 25 columns]\n"
     ]
    }
   ],
   "source": [
    "not_accepted_val=['?']\n",
    "dataset = pd.read_csv(r'C:\\Users\\asus\\Desktop\\\\risk_factors_cervical_cancer.csv',na_values=not_accepted_val)"
   ]
  },
  {
   "cell_type": "code",
   "execution_count": 12,
   "metadata": {},
   "outputs": [],
   "source": [
    "dataset = dataset.iloc[1:,[0,2,-1]]\n",
    "dataset.dropna(axis=0, how='any',inplace = True)\n",
    "X = dataset.iloc[:,[0,1]]\n",
    "y = dataset.iloc[:,-1]\n",
    "X_train, X_test ,y_train, y_test = train_test_split(X,y,random_state=2,test_size=0.2)"
   ]
  },
  {
   "cell_type": "code",
   "execution_count": 13,
   "metadata": {},
   "outputs": [
    {
     "output_type": "stream",
     "name": "stdout",
     "text": [
      "\nGaussian Naive Bayes model accuracy(in %):  92.89940828402366\nCONFUSION MATRIX\n[[156   3]\n [  9   1]]\nPrediction for person with age=32 and 2 years of smoking:\nProbability of not having cancer:  0.9526258935690174\nProbability of having cancer:  0.047374106430982485\nPrediction: This person does not have cervical cancer!\nReport               precision    recall  f1-score   support\n\n           0       0.95      0.98      0.96       159\n           1       0.25      0.10      0.14        10\n\n    accuracy                           0.93       169\n   macro avg       0.60      0.54      0.55       169\nweighted avg       0.90      0.93      0.91       169\n\n"
     ]
    }
   ],
   "source": [
    "from sklearn.naive_bayes import GaussianNB\n",
    "model = GaussianNB()\n",
    "model.fit(X_train, y_train)\n",
    "y_pred = model.predict(X_test)\n",
    "from sklearn import metrics\n",
    "\n",
    "print(\"\\nGaussian Naive Bayes model accuracy(in %): \",metrics.accuracy_score(y_test,y_pred)*100)\n",
    "print(\"CONFUSION MATRIX\")\n",
    "print(metrics.confusion_matrix(y_test, y_pred))\n",
    "\n",
    "answer_prob = model.predict_proba(np.array([32, 2]).reshape(1, -1))\n",
    "answer = model.predict(np.array([32, 2]).reshape(1, -1))\n",
    "\n",
    "print('Prediction for person with age=32 and 2 years of smoking:')\n",
    "\n",
    "answer_prob = model.predict_proba(np.array([32, 2]).reshape(1, -1))\n",
    "\n",
    "print('Probability of not having cancer: ', answer_prob[0][0])\n",
    "print('Probability of having cancer: ', answer_prob[0][1])\n",
    "print(f'Prediction: This person {\"does not have\" if answer[0]==0 else \"has\"} cervical cancer!')\n",
    "print('Report', metrics.classification_report(y_test, y_pred))"
   ]
  },
  {
   "cell_type": "code",
   "execution_count": null,
   "metadata": {},
   "outputs": [],
   "source": []
  }
 ]
}