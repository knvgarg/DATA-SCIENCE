{
 "metadata": {
  "language_info": {
   "codemirror_mode": {
    "name": "ipython",
    "version": 3
   },
   "file_extension": ".py",
   "mimetype": "text/x-python",
   "name": "python",
   "nbconvert_exporter": "python",
   "pygments_lexer": "ipython3",
   "version": "3.9.0-final"
  },
  "orig_nbformat": 2,
  "kernelspec": {
   "name": "python3",
   "display_name": "Python 3",
   "language": "python"
  }
 },
 "nbformat": 4,
 "nbformat_minor": 2,
 "cells": [
  {
   "cell_type": "code",
   "execution_count": 33,
   "metadata": {},
   "outputs": [],
   "source": [
    "import pandas as pd\n",
    "import bs4\n",
    "import requests\n",
    "import json\n",
    "df =pd.read_csv('ID.csv')\n",
    "ide=[]\n",
    "jokes=[]\n",
    "for i in range (0,473):\n",
    "    ide.append(df.iloc[i][0])\n",
    "for i in ide:\n",
    "    url =\"http://api.icndb.com/jokes/{}\".format(i)\n",
    "    response =requests.get(url).content\n",
    "    json_data= json.loads(response)\n",
    "    t=json_data[\"value\"]\n",
    "    z=t['joke']\n",
    "    jokes.append(z)\n",
    "filename =\"chuck_noris_ans.csv\"\n",
    "with open(filename,'a+') as f:\n",
    "    df= pd.DataFrame({\"ID\":ide,\"Joke\":jokes})\n",
    "    df.to_csv(\"chuck_noris_ans.csv\",index=False)"
   ]
  },
  {
   "cell_type": "code",
   "execution_count": null,
   "metadata": {},
   "outputs": [],
   "source": []
  }
 ]
}